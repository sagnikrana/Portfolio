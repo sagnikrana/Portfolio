{
 "cells": [
  {
   "cell_type": "code",
   "execution_count": 23,
   "metadata": {},
   "outputs": [],
   "source": [
    "import pandas as pd\n",
    "import numpy as np"
   ]
  },
  {
   "cell_type": "markdown",
   "metadata": {},
   "source": [
    "## Death by region"
   ]
  },
  {
   "cell_type": "code",
   "execution_count": 33,
   "metadata": {},
   "outputs": [],
   "source": [
    "data = pd.read_excel(\"D:\\\\Github_repos\\\\Portfolio-Telling-Stories-Using-Data\\\\Final Project\\\\Data\\\\region_to_continents.xlsx\")"
   ]
  },
  {
   "cell_type": "code",
   "execution_count": 35,
   "metadata": {},
   "outputs": [],
   "source": [
    "continent_list = set(data['Entity'])"
   ]
  },
  {
   "cell_type": "code",
   "execution_count": 25,
   "metadata": {},
   "outputs": [],
   "source": [
    "data['Entity'] = data['Entity'].map({'Andean Latin America':'South America',\n",
    " 'Central African Republic':'Africa',\n",
    " 'Central Asia':'Asia',\n",
    " 'Central Europe':'Europe',\n",
    " 'Central Europe, Eastern Europe, and Central Asia':'Europe',\n",
    " 'Central Latin America':'South America',\n",
    " 'Central Sub-Saharan Africa':'Africa',\n",
    " 'East Asia':'Asia',\n",
    " 'Eastern Europe':'Europe',\n",
    " 'Eastern Sub-Saharan Africa':'Africa',\n",
    " 'England':'Europe',\n",
    " 'Latin America and Caribbean':'South America',\n",
    " 'North Africa and Middle East':'Africa',\n",
    " 'North America':'North America',\n",
    " 'Southeast Asia':'Asia',\n",
    " 'Southeast Asia, East Asia, and Oceania':'Ocenia',\n",
    " 'Southern Latin America':'South America',\n",
    " 'Southern Sub-Saharan Africa':'Africa',\n",
    " 'Sub-Saharan Africa':'Africa',\n",
    " 'Tropical Latin America':'South America',\n",
    " 'Western Europe':'Europe',\n",
    " 'Western Sub-Saharan Africa':'Africa'})"
   ]
  },
  {
   "cell_type": "code",
   "execution_count": 27,
   "metadata": {},
   "outputs": [],
   "source": [
    "data_new = data.groupby(['Entity','Year']).sum()"
   ]
  },
  {
   "cell_type": "code",
   "execution_count": 32,
   "metadata": {},
   "outputs": [],
   "source": [
    "data_new.to_excel(\"household-air-pollution-deaths-by-region.xlsx\")"
   ]
  },
  {
   "cell_type": "markdown",
   "metadata": {},
   "source": [
    "## Household vs outdoor air pollution - region"
   ]
  },
  {
   "cell_type": "code",
   "execution_count": 57,
   "metadata": {},
   "outputs": [],
   "source": [
    "data = pd.read_excel(\"D:\\\\Github_repos\\\\Portfolio-Telling-Stories-Using-Data\\\\Final Project\\\\Data\\\\household-vs-outdoor-air-pollution-death-rates-region.xlsx\")"
   ]
  },
  {
   "cell_type": "code",
   "execution_count": 58,
   "metadata": {},
   "outputs": [
    {
     "data": {
      "text/plain": [
       "{'Andean Latin America',\n",
       " 'Central Asia',\n",
       " 'Central Europe',\n",
       " 'Central Europe, Eastern Europe, and Central Asia',\n",
       " 'Central Latin America',\n",
       " 'Central Sub-Saharan Africa',\n",
       " 'East Asia',\n",
       " 'Eastern Europe',\n",
       " 'Eastern Sub-Saharan Africa',\n",
       " 'England',\n",
       " 'Latin America and Caribbean',\n",
       " 'North Africa and Middle East',\n",
       " 'North America',\n",
       " 'Oceania',\n",
       " 'South Asia',\n",
       " 'Southeast Asia',\n",
       " 'Southeast Asia, East Asia, and Oceania',\n",
       " 'Southern Latin America',\n",
       " 'Southern Sub-Saharan Africa',\n",
       " 'Sub-Saharan Africa',\n",
       " 'Tropical Latin America',\n",
       " 'Western Europe',\n",
       " 'Western Sub-Saharan Africa'}"
      ]
     },
     "execution_count": 58,
     "metadata": {},
     "output_type": "execute_result"
    }
   ],
   "source": [
    "set(data['Entity'])"
   ]
  },
  {
   "cell_type": "code",
   "execution_count": 59,
   "metadata": {},
   "outputs": [],
   "source": [
    "data['Entity'] = data['Entity'].map({'Andean Latin America':'South America',\n",
    " 'Central African Republic':'Africa',\n",
    " 'Central Asia':'Asia',\n",
    " 'Central Europe':'Europe',\n",
    " 'Central Europe, Eastern Europe, and Central Asia':'Europe',\n",
    " 'Central Latin America':'South America',\n",
    " 'Central Sub-Saharan Africa':'Africa',\n",
    " 'East Asia':'Asia',\n",
    " 'Eastern Europe':'Europe',\n",
    " 'Eastern Sub-Saharan Africa':'Africa',\n",
    " 'England':'Europe',\n",
    " 'Latin America and Caribbean':'South America',\n",
    " 'North Africa and Middle East':'Africa',\n",
    " 'North America':'North America',\n",
    " 'Southeast Asia':'Asia',\n",
    " 'Southeast Asia, East Asia, and Oceania':'Ocenia',\n",
    " 'Southern Latin America':'South America',\n",
    " 'Southern Sub-Saharan Africa':'Africa',\n",
    " 'Sub-Saharan Africa':'Africa',\n",
    " 'Tropical Latin America':'South America',\n",
    " 'Western Europe':'Europe',\n",
    " 'Western Sub-Saharan Africa':'Africa'})"
   ]
  },
  {
   "cell_type": "code",
   "execution_count": 64,
   "metadata": {},
   "outputs": [
    {
     "name": "stdout",
     "output_type": "stream",
     "text": [
      "{'Europe', 'Ocenia', 'North America', 'Asia', 'Africa', 'South America'}\n"
     ]
    }
   ],
   "source": [
    "data.dropna(inplace = True)\n",
    "\n",
    "print(set(data['Entity']))\n",
    "\n",
    "data.to_excel(\"household-vs-outdoor-air-pollution-death-rates-region.xlsx\")"
   ]
  },
  {
   "cell_type": "markdown",
   "metadata": {},
   "source": [
    "## Access to clean fuels and technologies vs GDP per capita"
   ]
  },
  {
   "cell_type": "code",
   "execution_count": 65,
   "metadata": {},
   "outputs": [],
   "source": [
    "data = pd.read_excel(\"D:\\\\Github_repos\\\\Portfolio-Telling-Stories-Using-Data\\\\Final Project\\\\Data\\\\temp.xlsx\")"
   ]
  },
  {
   "cell_type": "code",
   "execution_count": 66,
   "metadata": {},
   "outputs": [
    {
     "data": {
      "text/plain": [
       "{'Arab World',\n",
       " 'Caribbean small states',\n",
       " 'Central Europe and the Baltics',\n",
       " 'Early-demographic dividend',\n",
       " 'East Asia & Pacific',\n",
       " 'East Asia & Pacific (IDA & IBRD)',\n",
       " 'East Asia & Pacific (excluding high income)',\n",
       " 'Euro area',\n",
       " 'Europe & Central Asia',\n",
       " 'Europe & Central Asia (IDA & IBRD)',\n",
       " 'Europe & Central Asia (excluding high income)',\n",
       " 'European Union',\n",
       " 'Fragile and conflict affected situations',\n",
       " 'Heavily indebted poor countries (HIPC)',\n",
       " 'High income',\n",
       " 'IBRD only',\n",
       " 'IDA & IBRD total',\n",
       " 'IDA blend',\n",
       " 'IDA only',\n",
       " 'IDA total',\n",
       " 'Late-demographic dividend',\n",
       " 'Latin America & Caribbean',\n",
       " 'Latin America & Caribbean (IDA & IBRD)',\n",
       " 'Latin America & Caribbean (excluding high income)',\n",
       " 'Least developed countries: UN classification',\n",
       " 'Low & middle income',\n",
       " 'Low income',\n",
       " 'Lower middle income',\n",
       " 'Middle East & North Africa',\n",
       " 'Middle East & North Africa (IDA & IBRD)',\n",
       " 'Middle East & North Africa (excluding high income)',\n",
       " 'Middle income',\n",
       " 'North America',\n",
       " 'OECD members',\n",
       " 'Other small states',\n",
       " 'Pacific island small states',\n",
       " 'Post-demographic dividend',\n",
       " 'Pre-demographic dividend',\n",
       " 'Small states',\n",
       " 'South Asia',\n",
       " 'South Asia (IDA & IBRD)',\n",
       " 'Sub-Saharan Africa',\n",
       " 'Sub-Saharan Africa (IDA & IBRD)',\n",
       " 'Sub-Saharan Africa (excluding high income)',\n",
       " 'Syrian Arab Republic',\n",
       " 'Upper middle income'}"
      ]
     },
     "execution_count": 66,
     "metadata": {},
     "output_type": "execute_result"
    }
   ],
   "source": [
    "set(data['Entity'])"
   ]
  },
  {
   "cell_type": "code",
   "execution_count": 68,
   "metadata": {},
   "outputs": [],
   "source": [
    "data['Entity'] = data['Entity'].map({'Arab World':'Arab',\n",
    " 'Central Europe and the Baltics':'Europe',\n",
    " 'East Asia & Pacific':'Asia',\n",
    " 'East Asia & Pacific (IDA & IBRD)':'Asia',\n",
    " 'East Asia & Pacific (excluding high income)':'Asia',\n",
    " 'Euro area':'Europe',\n",
    " 'Europe & Central Asia':'Asia',\n",
    " 'Europe & Central Asia (IDA & IBRD)':'Asia',\n",
    " 'Europe & Central Asia (excluding high income)':'Asia',\n",
    " 'European Union':'Europe',\n",
    " 'Latin America & Caribbean':'South America',\n",
    " 'Latin America & Caribbean (IDA & IBRD)':'South America',\n",
    " 'Latin America & Caribbean (excluding high income)':'South America',\n",
    " 'Middle East & North Africa':'Africa',\n",
    " 'Middle East & North Africa (IDA & IBRD)':'Africa',\n",
    " 'Middle East & North Africa (excluding high income)':'Africa',\n",
    " 'North America':'North America',\n",
    " 'South Asia':'Asia',\n",
    " 'South Asia (IDA & IBRD)':'Asia',\n",
    " 'Sub-Saharan Africa':'Africa',\n",
    " 'Sub-Saharan Africa (IDA & IBRD)':'Africa',\n",
    " 'Sub-Saharan Africa (excluding high income)':'Africa',\n",
    " 'Syrian Arab Republic':'Arab'})"
   ]
  },
  {
   "cell_type": "code",
   "execution_count": 72,
   "metadata": {},
   "outputs": [],
   "source": [
    "data.to_excel(\"access-to-clean-fuels-for-cooking-vs-gdp-per-capita-region.xlsx\")"
   ]
  }
 ],
 "metadata": {
  "kernelspec": {
   "display_name": "Python 3",
   "language": "python",
   "name": "python3"
  },
  "language_info": {
   "codemirror_mode": {
    "name": "ipython",
    "version": 3
   },
   "file_extension": ".py",
   "mimetype": "text/x-python",
   "name": "python",
   "nbconvert_exporter": "python",
   "pygments_lexer": "ipython3",
   "version": "3.7.3"
  }
 },
 "nbformat": 4,
 "nbformat_minor": 4
}
