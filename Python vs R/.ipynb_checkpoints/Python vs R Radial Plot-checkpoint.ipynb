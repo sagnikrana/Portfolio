{
 "cells": [
  {
   "cell_type": "code",
   "execution_count": 1,
   "metadata": {
    "scrolled": false
   },
   "outputs": [
    {
     "data": {
      "text/html": [
       "<script type=\"text/javascript\">window.PlotlyConfig = {MathJaxConfig: 'local'};</script><script type=\"text/javascript\">if (window.MathJax) {MathJax.Hub.Config({SVG: {font: \"STIX-Web\"}});}</script><script>requirejs.config({paths: { 'plotly': ['https://cdn.plot.ly/plotly-latest.min']},});if(!window._Plotly) {require(['plotly'],function(plotly) {window._Plotly=plotly;});}</script>"
      ],
      "text/vnd.plotly.v1+html": [
       "<script type=\"text/javascript\">window.PlotlyConfig = {MathJaxConfig: 'local'};</script><script type=\"text/javascript\">if (window.MathJax) {MathJax.Hub.Config({SVG: {font: \"STIX-Web\"}});}</script><script>requirejs.config({paths: { 'plotly': ['https://cdn.plot.ly/plotly-latest.min']},});if(!window._Plotly) {require(['plotly'],function(plotly) {window._Plotly=plotly;});}</script>"
      ]
     },
     "metadata": {},
     "output_type": "display_data"
    },
    {
     "data": {
      "application/vnd.plotly.v1+json": {
       "config": {
        "linkText": "Export to plot.ly",
        "plotlyServerURL": "https://plot.ly",
        "showLink": false
       },
       "data": [
        {
         "fill": "toself",
         "marker": {
          "size": 5
         },
         "mode": "markers+lines",
         "name": "2016",
         "r": [
          36,
          42,
          16,
          8
         ],
         "theta": [
          "Python",
          "R",
          "Other",
          "Both"
         ],
         "type": "scatterpolar",
         "uid": "eb5c559e-5175-49a1-b443-216e815f8ce2"
        },
        {
         "fill": "toself",
         "marker": {
          "size": 5
         },
         "mode": "markers+lines",
         "name": "2017",
         "r": [
          41,
          36,
          11,
          12
         ],
         "theta": [
          "Python",
          "R",
          "Other",
          "Both"
         ],
         "type": "scatterpolar",
         "uid": "e6def2b2-769b-4fa1-9db0-0fbcb4d4c110"
        }
       ],
       "layout": {
        "height": 700,
        "paper_bgcolor": "azure",
        "polar": {
         "angularaxis": {
          "layer": "below traces",
          "tickfont": {
           "size": 10
          }
         },
         "bgcolor": "lightcyan",
         "radialaxis": {
          "gridcolor": "cyan",
          "gridwidth": 1,
          "linewidth": 2,
          "showline": true,
          "side": "clockwise",
          "tickwidth": 2,
          "visible": true
         }
        },
        "title": {
         "text": "Which language data scientists prefer ?"
        }
       }
      },
      "text/html": [
       "<div id=\"2d11ed4c-da15-47a6-aa20-bf19d8c1b390\" style=\"height: 700px; width: 100%;\" class=\"plotly-graph-div\"></div><script type=\"text/javascript\">require([\"plotly\"], function(Plotly) { window.PLOTLYENV=window.PLOTLYENV || {};window.PLOTLYENV.BASE_URL=\"https://plot.ly\";Plotly.newPlot(\"2d11ed4c-da15-47a6-aa20-bf19d8c1b390\", [{\"uid\": \"eb5c559e-5175-49a1-b443-216e815f8ce2\", \"fill\": \"toself\", \"mode\": \"markers+lines\", \"marker\": {\"size\": 5}, \"theta\": [\"Python\", \"R\", \"Other\", \"Both\"], \"type\": \"scatterpolar\", \"name\": \"2016\", \"r\": [36, 42, 16, 8]}, {\"uid\": \"e6def2b2-769b-4fa1-9db0-0fbcb4d4c110\", \"fill\": \"toself\", \"mode\": \"markers+lines\", \"marker\": {\"size\": 5}, \"theta\": [\"Python\", \"R\", \"Other\", \"Both\"], \"type\": \"scatterpolar\", \"name\": \"2017\", \"r\": [41, 36, 11, 12]}], {\"paper_bgcolor\": \"azure\", \"title\": {\"text\": \"Which language data scientists prefer ?\"}, \"polar\": {\"angularaxis\": {\"tickfont\": {\"size\": 10}, \"layer\": \"below traces\"}, \"radialaxis\": {\"showline\": true, \"gridwidth\": 1, \"tickwidth\": 2, \"gridcolor\": \"cyan\", \"visible\": true, \"side\": \"clockwise\", \"linewidth\": 2}, \"bgcolor\": \"lightcyan\"}, \"height\": 700}, {\"showLink\": false, \"linkText\": \"Export to plot.ly\", \"plotlyServerURL\": \"https://plot.ly\"})});</script><script type=\"text/javascript\">window.addEventListener(\"resize\", function(){window._Plotly.Plots.resize(document.getElementById(\"2d11ed4c-da15-47a6-aa20-bf19d8c1b390\"));});</script>"
      ],
      "text/vnd.plotly.v1+html": [
       "<div id=\"2d11ed4c-da15-47a6-aa20-bf19d8c1b390\" style=\"height: 700px; width: 100%;\" class=\"plotly-graph-div\"></div><script type=\"text/javascript\">require([\"plotly\"], function(Plotly) { window.PLOTLYENV=window.PLOTLYENV || {};window.PLOTLYENV.BASE_URL=\"https://plot.ly\";Plotly.newPlot(\"2d11ed4c-da15-47a6-aa20-bf19d8c1b390\", [{\"uid\": \"eb5c559e-5175-49a1-b443-216e815f8ce2\", \"fill\": \"toself\", \"mode\": \"markers+lines\", \"marker\": {\"size\": 5}, \"theta\": [\"Python\", \"R\", \"Other\", \"Both\"], \"type\": \"scatterpolar\", \"name\": \"2016\", \"r\": [36, 42, 16, 8]}, {\"uid\": \"e6def2b2-769b-4fa1-9db0-0fbcb4d4c110\", \"fill\": \"toself\", \"mode\": \"markers+lines\", \"marker\": {\"size\": 5}, \"theta\": [\"Python\", \"R\", \"Other\", \"Both\"], \"type\": \"scatterpolar\", \"name\": \"2017\", \"r\": [41, 36, 11, 12]}], {\"paper_bgcolor\": \"azure\", \"title\": {\"text\": \"Which language data scientists prefer ?\"}, \"polar\": {\"angularaxis\": {\"tickfont\": {\"size\": 10}, \"layer\": \"below traces\"}, \"radialaxis\": {\"showline\": true, \"gridwidth\": 1, \"tickwidth\": 2, \"gridcolor\": \"cyan\", \"visible\": true, \"side\": \"clockwise\", \"linewidth\": 2}, \"bgcolor\": \"lightcyan\"}, \"height\": 700}, {\"showLink\": false, \"linkText\": \"Export to plot.ly\", \"plotlyServerURL\": \"https://plot.ly\"})});</script><script type=\"text/javascript\">window.addEventListener(\"resize\", function(){window._Plotly.Plots.resize(document.getElementById(\"2d11ed4c-da15-47a6-aa20-bf19d8c1b390\"));});</script>"
      ]
     },
     "metadata": {},
     "output_type": "display_data"
    }
   ],
   "source": [
    "import plotly.tools as tls\n",
    "from dateutil import parser\n",
    "import plotly.offline as py\n",
    "from selenium import webdriver\n",
    "import plotly.graph_objs as go\n",
    "import matplotlib.pyplot as plt\n",
    "import plotly.figure_factory as ff\n",
    "py.init_notebook_mode(connected=True)\n",
    "\n",
    "trace1 = go.Scatterpolar(r = [36,42,16,8],\n",
    "                             theta = ['Python','R','Other','Both'],\n",
    "                             fill  = \"toself\",name = \"2016\",\n",
    "                             mode = \"markers+lines\",\n",
    "                             marker = dict(size = 5),\n",
    "                            )\n",
    "\n",
    "trace2 = go.Scatterpolar(r = [41,36,11,12],\n",
    "                             theta = ['Python','R','Other','Both'],\n",
    "                             fill  = \"toself\",name = \"2017\",\n",
    "                             mode = \"markers+lines\",\n",
    "                             marker = dict(size = 5),\n",
    "                            )\n",
    "\n",
    "\n",
    "layout = go.Layout(dict(polar = dict(radialaxis = dict(visible = True,\n",
    "                                                           side = \"clockwise\",\n",
    "                                                           showline = True,                                                           linewidth = 2,\n",
    "                                                           gridcolor = 'cyan',\n",
    "                                                           tickwidth = 2,\n",
    "                                                           gridwidth = 1),\n",
    "                                         angularaxis = dict(tickfont = dict(size = 10),\n",
    "                                                            layer = \"below traces\"\n",
    "                                                           ),\n",
    "                                         bgcolor  = \"lightcyan\",\n",
    "                                        ),\n",
    "                            paper_bgcolor = \"azure\",\n",
    "                            title = \"Which language data scientists prefer ?\",height = 700))\n",
    "\n",
    "fig = go.Figure(data=[trace1, trace2], layout=layout)\n",
    "py.iplot(fig)"
   ]
  },
  {
   "cell_type": "markdown",
   "metadata": {},
   "source": [
    "![newplot.png](radial.png)"
   ]
  }
 ],
 "metadata": {
  "kernelspec": {
   "display_name": "Python 3",
   "language": "python",
   "name": "python3"
  },
  "language_info": {
   "codemirror_mode": {
    "name": "ipython",
    "version": 3
   },
   "file_extension": ".py",
   "mimetype": "text/x-python",
   "name": "python",
   "nbconvert_exporter": "python",
   "pygments_lexer": "ipython3",
   "version": "3.5.2"
  }
 },
 "nbformat": 4,
 "nbformat_minor": 2
}
